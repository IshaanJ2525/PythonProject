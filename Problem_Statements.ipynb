{
  "nbformat": 4,
  "nbformat_minor": 0,
  "metadata": {
    "colab": {
      "provenance": [],
      "authorship_tag": "ABX9TyP1Sf/X4rgxvEOvrKCWH5Fy",
      "include_colab_link": true
    },
    "kernelspec": {
      "name": "python3",
      "display_name": "Python 3"
    },
    "language_info": {
      "name": "python"
    }
  },
  "cells": [
    {
      "cell_type": "markdown",
      "metadata": {
        "id": "view-in-github",
        "colab_type": "text"
      },
      "source": [
        "<a href=\"https://colab.research.google.com/github/IshaanJ2525/PythonProject/blob/main/Problem_Statements.ipynb\" target=\"_parent\"><img src=\"https://colab.research.google.com/assets/colab-badge.svg\" alt=\"Open In Colab\"/></a>"
      ]
    },
    {
      "cell_type": "code",
      "execution_count": 1,
      "metadata": {
        "colab": {
          "base_uri": "https://localhost:8080/"
        },
        "id": "MX90rGyg7o4Z",
        "outputId": "fd5dbef8-c86b-4d3b-88cd-9818d324ee90"
      },
      "outputs": [
        {
          "output_type": "stream",
          "name": "stdout",
          "text": [
            "Expected Result: 2\n"
          ]
        }
      ],
      "source": [
        "def match_ends(words):\n",
        "    count = 0\n",
        "    for word in words:\n",
        "        if len(word) >= 2 and word[0] == word[-1]:\n",
        "            count += 1\n",
        "    return count\n",
        "\n",
        "# Sample input\n",
        "sample_list = ['abc', 'xyz', 'aba', '1221']\n",
        "\n",
        "# Function call and output\n",
        "result = match_ends(sample_list)\n",
        "print(\"Expected Result:\", result)"
      ]
    },
    {
      "cell_type": "code",
      "source": [
        "# Sample list of non-empty tuples\n",
        "sample_list = [(2, 5), (1, 2), (4, 4), (2, 3), (2, 1)]\n",
        "\n",
        "# Sort the list by the last element of each tuple using lambda\n",
        "sorted_list = sorted(sample_list, key=lambda x: x[-1])\n",
        "\n",
        "# Display the result\n",
        "print(\"Sorted list:\", sorted_list)"
      ],
      "metadata": {
        "colab": {
          "base_uri": "https://localhost:8080/"
        },
        "id": "8Pi4veX58PXI",
        "outputId": "658ec311-1993-4ceb-8d9d-86a257624523"
      },
      "execution_count": 2,
      "outputs": [
        {
          "output_type": "stream",
          "name": "stdout",
          "text": [
            "Sorted list: [(2, 1), (1, 2), (2, 3), (4, 4), (2, 5)]\n"
          ]
        }
      ]
    },
    {
      "cell_type": "code",
      "source": [
        "# Generate a 3x4x6 3D array filled with '*'\n",
        "array = [[['*' for _ in range(6)] for _ in range(4)] for _ in range(3)]\n",
        "\n",
        "# Display the result\n",
        "print(array)"
      ],
      "metadata": {
        "colab": {
          "base_uri": "https://localhost:8080/"
        },
        "id": "D2dfpgQx8WH7",
        "outputId": "0564e0f6-14fa-4a20-9fba-c682dd3738fd"
      },
      "execution_count": 3,
      "outputs": [
        {
          "output_type": "stream",
          "name": "stdout",
          "text": [
            "[[['*', '*', '*', '*', '*', '*'], ['*', '*', '*', '*', '*', '*'], ['*', '*', '*', '*', '*', '*'], ['*', '*', '*', '*', '*', '*']], [['*', '*', '*', '*', '*', '*'], ['*', '*', '*', '*', '*', '*'], ['*', '*', '*', '*', '*', '*'], ['*', '*', '*', '*', '*', '*']], [['*', '*', '*', '*', '*', '*'], ['*', '*', '*', '*', '*', '*'], ['*', '*', '*', '*', '*', '*'], ['*', '*', '*', '*', '*', '*']]]\n"
          ]
        }
      ]
    },
    {
      "cell_type": "code",
      "source": [
        "sample_list = [0, 1, 2, 3, 4, 5]\n",
        "sample_list[::2], sample_list[1::2] = sample_list[1::2], sample_list[::2]\n",
        "print(\"Modified list:\", sample_list)"
      ],
      "metadata": {
        "colab": {
          "base_uri": "https://localhost:8080/"
        },
        "id": "BWfXgUHJ8cCj",
        "outputId": "7de32207-4d17-4761-aadc-6f52f89725d8"
      },
      "execution_count": 4,
      "outputs": [
        {
          "output_type": "stream",
          "name": "stdout",
          "text": [
            "Modified list: [1, 0, 3, 2, 5, 4]\n"
          ]
        }
      ]
    },
    {
      "cell_type": "code",
      "source": [
        "# Input list and string\n",
        "list_items = [1, 2, 3, 4]\n",
        "prefix = 'emp'\n",
        "\n",
        "# Add the prefix to each element\n",
        "result = [prefix + str(item) for item in list_items]\n",
        "\n",
        "# Output result\n",
        "print(result)"
      ],
      "metadata": {
        "colab": {
          "base_uri": "https://localhost:8080/"
        },
        "id": "QQPDkWE98owY",
        "outputId": "a7c18727-45ff-4b7c-9bbf-148e30f9b8e7"
      },
      "execution_count": 5,
      "outputs": [
        {
          "output_type": "stream",
          "name": "stdout",
          "text": [
            "['emp1', 'emp2', 'emp3', 'emp4']\n"
          ]
        }
      ]
    },
    {
      "cell_type": "code",
      "source": [
        "# Original list\n",
        "nums = [3, 4, 0, 0, 0, 6, 2, 0, 6, 7, 6, 0, 0, 0, 9, 10, 7, 4, 4, 5, 3, 0, 0, 2, 9, 7, 1]\n",
        "\n",
        "# Move non-zero numbers to front, then add zeros at end\n",
        "result = [num for num in nums if num != 0] + [0] * nums.count(0)\n",
        "\n",
        "# Output\n",
        "print(\"Original list:\")\n",
        "print(nums)\n",
        "print(\"\\nList after moving zero digits to the end:\")\n",
        "print(result)"
      ],
      "metadata": {
        "colab": {
          "base_uri": "https://localhost:8080/"
        },
        "id": "9Jsukrvu8sBW",
        "outputId": "a336780a-bb02-4682-f102-dde721402588"
      },
      "execution_count": 6,
      "outputs": [
        {
          "output_type": "stream",
          "name": "stdout",
          "text": [
            "Original list:\n",
            "[3, 4, 0, 0, 0, 6, 2, 0, 6, 7, 6, 0, 0, 0, 9, 10, 7, 4, 4, 5, 3, 0, 0, 2, 9, 7, 1]\n",
            "\n",
            "List after moving zero digits to the end:\n",
            "[3, 4, 6, 2, 6, 7, 6, 9, 10, 7, 4, 4, 5, 3, 2, 9, 7, 1, 0, 0, 0, 0, 0, 0, 0, 0, 0]\n"
          ]
        }
      ]
    },
    {
      "cell_type": "code",
      "source": [
        "# Original list\n",
        "items = ['abcd', 'abc', 'bcd', 'bkie', 'cder', 'cdsw', 'sdfsd', 'dagfa', 'acjd']\n",
        "\n",
        "# Function to filter items starting with a given character\n",
        "def items_start_with(char, item_list):\n",
        "    return [item for item in item_list if item.startswith(char)]\n",
        "\n",
        "# Test cases\n",
        "print(\"Original list:\")\n",
        "print(items)\n",
        "\n",
        "print(\"\\nItems start with 'a':\")\n",
        "print(items_start_with('a', items))\n",
        "\n",
        "print(\"\\nItems start with 'd':\")\n",
        "print(items_start_with('d', items))\n",
        "\n",
        "print(\"\\nItems start with 'w':\")\n",
        "print(items_start_with('w', items))"
      ],
      "metadata": {
        "colab": {
          "base_uri": "https://localhost:8080/"
        },
        "id": "hcd4CJCR8wpp",
        "outputId": "e346a6d1-4e3b-4b1a-8cbf-19fdc2d4c228"
      },
      "execution_count": 7,
      "outputs": [
        {
          "output_type": "stream",
          "name": "stdout",
          "text": [
            "Original list:\n",
            "['abcd', 'abc', 'bcd', 'bkie', 'cder', 'cdsw', 'sdfsd', 'dagfa', 'acjd']\n",
            "\n",
            "Items start with 'a':\n",
            "['abcd', 'abc', 'acjd']\n",
            "\n",
            "Items start with 'd':\n",
            "['dagfa']\n",
            "\n",
            "Items start with 'w':\n",
            "[]\n"
          ]
        }
      ]
    }
  ]
}